{
 "cells": [
  {
   "cell_type": "code",
   "execution_count": 32,
   "metadata": {},
   "outputs": [],
   "source": [
    "import numpy as np\n",
    "import time"
   ]
  },
  {
   "cell_type": "code",
   "execution_count": 50,
   "metadata": {},
   "outputs": [],
   "source": [
    "# Each bandit has a specified probability of success (chance) and payoff\n",
    "# Use this structure: https://stackoverflow.com/questions/13411668/global-dictionary-within-a-class-python\n",
    "# Overview of class: https://docs.python.org/3/tutorial/classes.html\n",
    "\n",
    "class Bandits():\n",
    "    def __init__( self, scenarioName ):\n",
    "        np.random.seed(int(time.time()))\n",
    "        self.scenarioName = scenarioName\n",
    "        self.allNames     = []\n",
    "        self.bandits      = {}\n",
    "        \n",
    "    def addBandit(self, name, award, chance, draws, payoff = None, tries = 0):\n",
    "        \n",
    "        self.name    = name\n",
    "        self.award   = award\n",
    "        self.chance  = chance\n",
    "        # Total number of draws for bandit\n",
    "        self.draws   = draws\n",
    "        self.payoff  = award * np.array( np.random.binomial( n = 1, p = chance, size = draws ) )\n",
    "        # Number of times bandit was chosen\n",
    "        self.tries = 0\n",
    "        self.bandits[self.name] = { 'payoff': self.payoff,\n",
    "                                    'tries' : self.tries }\n",
    "        \n",
    "    def addBandits( self, names, awards, chances, draws ):\n",
    "\n",
    "        for i in range( 0, len(names)):\n",
    "            self.addBandit( name = names[i], award = awards[i], chance = chances[i], draws = 10 )\n",
    "            # Add the new names to allNames\n",
    "            self.allNames.append(names[i])\n",
    "            # Number of times bandit is selected\n",
    "            self.tries    = 0\n",
    "            # Estimate after each try\n",
    "            self.estimate = [0]"
   ]
  },
  {
   "cell_type": "code",
   "execution_count": 51,
   "metadata": {},
   "outputs": [],
   "source": [
    "bandits = Bandits('5Bandits')"
   ]
  },
  {
   "cell_type": "code",
   "execution_count": 52,
   "metadata": {},
   "outputs": [],
   "source": [
    "# Pass list of bandit attributes\n",
    "names   = ['Bandit1','Bandit2','Bandit3','Bandit4','Bandit5']\n",
    "awards  = [1] * 5\n",
    "chances = [.1,.3,.5,.7,.9]\n",
    "\n",
    "bandits.addBandits( names = names, awards = awards, chances = chances, draws = 10)"
   ]
  },
  {
   "cell_type": "code",
   "execution_count": 53,
   "metadata": {},
   "outputs": [
    {
     "data": {
      "text/plain": [
       "{'Bandit1': {'payoff': array([0, 0, 0, 1, 0, 1, 0, 0, 0, 1]), 'tries': 0},\n",
       " 'Bandit2': {'payoff': array([1, 1, 1, 0, 1, 1, 0, 0, 0, 0]), 'tries': 0},\n",
       " 'Bandit3': {'payoff': array([0, 1, 1, 1, 0, 1, 1, 1, 1, 0]), 'tries': 0},\n",
       " 'Bandit4': {'payoff': array([1, 0, 1, 1, 1, 1, 1, 0, 0, 1]), 'tries': 0},\n",
       " 'Bandit5': {'payoff': array([1, 1, 1, 1, 1, 1, 0, 1, 1, 0]), 'tries': 0}}"
      ]
     },
     "execution_count": 53,
     "metadata": {},
     "output_type": "execute_result"
    }
   ],
   "source": [
    "bandits.bandits"
   ]
  },
  {
   "cell_type": "code",
   "execution_count": null,
   "metadata": {},
   "outputs": [],
   "source": [
    "for key, value in bandits.bandits.items():\n",
    "    key"
   ]
  },
  {
   "cell_type": "code",
   "execution_count": 37,
   "metadata": {},
   "outputs": [],
   "source": [
    "bandits.allNames = names"
   ]
  },
  {
   "cell_type": "code",
   "execution_count": 38,
   "metadata": {},
   "outputs": [
    {
     "data": {
      "text/plain": [
       "['Bandit1', 'Bandit2', 'Bandit3', 'Bandit4', 'Bandit5']"
      ]
     },
     "execution_count": 38,
     "metadata": {},
     "output_type": "execute_result"
    }
   ],
   "source": [
    "bandits.allNames"
   ]
  },
  {
   "cell_type": "code",
   "execution_count": 39,
   "metadata": {},
   "outputs": [
    {
     "ename": "KeyError",
     "evalue": "'Bandit1'",
     "output_type": "error",
     "traceback": [
      "\u001b[1;31m---------------------------------------------------------------------------\u001b[0m",
      "\u001b[1;31mKeyError\u001b[0m                                  Traceback (most recent call last)",
      "\u001b[1;32m<ipython-input-39-714258e02ee6>\u001b[0m in \u001b[0;36m<module>\u001b[1;34m\u001b[0m\n\u001b[1;32m----> 1\u001b[1;33m \u001b[0mbandits\u001b[0m\u001b[1;33m.\u001b[0m\u001b[0mbandits\u001b[0m\u001b[1;33m[\u001b[0m\u001b[1;34m'Bandit1'\u001b[0m\u001b[1;33m]\u001b[0m\u001b[1;33m[\u001b[0m\u001b[1;34m'tries'\u001b[0m\u001b[1;33m]\u001b[0m\u001b[1;33m\u001b[0m\u001b[1;33m\u001b[0m\u001b[0m\n\u001b[0m",
      "\u001b[1;31mKeyError\u001b[0m: 'Bandit1'"
     ]
    }
   ],
   "source": [
    "bandits.bandits['Bandit1']['tries']"
   ]
  },
  {
   "cell_type": "code",
   "execution_count": 8,
   "metadata": {},
   "outputs": [
    {
     "name": "stdout",
     "output_type": "stream",
     "text": [
      "Bandit1\n",
      "Bandit2\n",
      "Bandit3\n",
      "Bandit4\n",
      "Bandit5\n"
     ]
    }
   ],
   "source": [
    "for key, value in bandits.bandits.items():\n",
    "    print(key)"
   ]
  },
  {
   "cell_type": "code",
   "execution_count": 11,
   "metadata": {},
   "outputs": [
    {
     "data": {
      "text/plain": [
       "[0, 0, 0, 0, 0]"
      ]
     },
     "execution_count": 11,
     "metadata": {},
     "output_type": "execute_result"
    }
   ],
   "source": [
    "[0] * len(bandits.bandits)"
   ]
  },
  {
   "cell_type": "code",
   "execution_count": 26,
   "metadata": {},
   "outputs": [],
   "source": [
    "# Beta test upper confidence bound approach\n",
    "t = 0\n",
    "initEstimate = 1.0\n",
    "i = 1\n",
    "estimates = [0] * len(bandits.bandits)\n",
    "\n",
    "#for key, value in bandits.bandits.times:\n",
    "    "
   ]
  },
  {
   "cell_type": "code",
   "execution_count": null,
   "metadata": {},
   "outputs": [],
   "source": []
  }
 ],
 "metadata": {
  "kernelspec": {
   "display_name": "Python 3",
   "language": "python",
   "name": "python3"
  },
  "language_info": {
   "codemirror_mode": {
    "name": "ipython",
    "version": 3
   },
   "file_extension": ".py",
   "mimetype": "text/x-python",
   "name": "python",
   "nbconvert_exporter": "python",
   "pygments_lexer": "ipython3",
   "version": "3.7.4"
  }
 },
 "nbformat": 4,
 "nbformat_minor": 2
}
