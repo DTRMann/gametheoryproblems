{
 "cells": [
  {
   "cell_type": "code",
   "execution_count": 52,
   "metadata": {},
   "outputs": [],
   "source": [
    "import numpy as np\n",
    "import time"
   ]
  },
  {
   "cell_type": "code",
   "execution_count": 60,
   "metadata": {},
   "outputs": [],
   "source": [
    "# Each bandit has a specified probability of success (chance) and payoff\n",
    "# Use this structure: https://stackoverflow.com/questions/13411668/global-dictionary-within-a-class-python\n",
    "# Overview of class: https://docs.python.org/3/tutorial/classes.html\n",
    "\n",
    "class Bandits():\n",
    "    def __init__( self, name ):\n",
    "        np.random.seed(int(time.time()))\n",
    "        self.name    = name\n",
    "        self.bandits = {}\n",
    "        \n",
    "    def addBandit(self, name, award, chance, draws, payoff = None, tries = 0):\n",
    "        self.name    = name\n",
    "        self.award   = award\n",
    "        self.chance  = chance\n",
    "        # Total number of draws for bandit\n",
    "        self.draws   = draws\n",
    "        self.payoff  = award * np.array( np.random.binomial( n = 1, p = chance, size = draws ) )\n",
    "        # Number of times bandit was chosen\n",
    "        self.tries = 0\n",
    "        self.bandits[self.name] = { 'payoff': self.payoff,\n",
    "                                    'tries' : self.tries }\n",
    "        \n",
    "    def addBandits( self, names, awards, chances, draws ):\n",
    "\n",
    "        for i in range( 0, len(names)):\n",
    "            self.addBandit( name = names[i], award = awards[i], chance = chances[i], draws = 10 )\n",
    "            self.tries = 0"
   ]
  },
  {
   "cell_type": "code",
   "execution_count": 61,
   "metadata": {},
   "outputs": [],
   "source": [
    "bandits = Bandits('5Bandits')"
   ]
  },
  {
   "cell_type": "code",
   "execution_count": 62,
   "metadata": {},
   "outputs": [],
   "source": [
    "# Pass list of bandit attributes\n",
    "names   = ['Bandit1','Bandit2','Bandit3','Bandit4','Bandit5']\n",
    "awards  = [1] * 5\n",
    "chances = [.1,.3,.5,.7,.9]"
   ]
  },
  {
   "cell_type": "code",
   "execution_count": 63,
   "metadata": {},
   "outputs": [],
   "source": [
    "bandits.addBandits( names = names, awards = awards, chances = chances, draws = 10)"
   ]
  },
  {
   "cell_type": "code",
   "execution_count": 64,
   "metadata": {},
   "outputs": [
    {
     "data": {
      "text/plain": [
       "{'Bandit1': {'payoff': array([0, 0, 0, 0, 0, 0, 0, 0, 0, 0]), 'tries': 0},\n",
       " 'Bandit2': {'payoff': array([0, 0, 0, 0, 1, 0, 0, 1, 0, 1]), 'tries': 0},\n",
       " 'Bandit3': {'payoff': array([1, 0, 1, 1, 0, 0, 0, 1, 0, 0]), 'tries': 0},\n",
       " 'Bandit4': {'payoff': array([1, 1, 0, 0, 1, 0, 1, 1, 1, 1]), 'tries': 0},\n",
       " 'Bandit5': {'payoff': array([1, 1, 1, 1, 0, 1, 0, 0, 1, 0]), 'tries': 0}}"
      ]
     },
     "execution_count": 64,
     "metadata": {},
     "output_type": "execute_result"
    }
   ],
   "source": [
    "bandits.bandits"
   ]
  },
  {
   "cell_type": "code",
   "execution_count": null,
   "metadata": {},
   "outputs": [],
   "source": []
  }
 ],
 "metadata": {
  "kernelspec": {
   "display_name": "Python 3",
   "language": "python",
   "name": "python3"
  },
  "language_info": {
   "codemirror_mode": {
    "name": "ipython",
    "version": 3
   },
   "file_extension": ".py",
   "mimetype": "text/x-python",
   "name": "python",
   "nbconvert_exporter": "python",
   "pygments_lexer": "ipython3",
   "version": "3.7.4"
  }
 },
 "nbformat": 4,
 "nbformat_minor": 2
}
