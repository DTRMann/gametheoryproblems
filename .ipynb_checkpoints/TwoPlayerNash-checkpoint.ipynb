{
 "cells": [
  {
   "cell_type": "code",
   "execution_count": null,
   "metadata": {},
   "outputs": [],
   "source": [
    "# Finds the price of anarchy of a two-player game (utility of optimal play vs. Nash equilibrium)"
   ]
  },
  {
   "cell_type": "code",
   "execution_count": 158,
   "metadata": {},
   "outputs": [],
   "source": [
    "import pandas as pd\n",
    "import numpy as np"
   ]
  },
  {
   "cell_type": "code",
   "execution_count": 206,
   "metadata": {},
   "outputs": [],
   "source": [
    "# Define player class\n",
    "class Player:\n",
    "    def __init__(self, playerNum, payoffMatrix, possibleNash):\n",
    "        self.playerNum    = playerNum\n",
    "        self.payoffMatrix = payoffMatrix\n",
    "        self.possibleNash = possibleNash"
   ]
  },
  {
   "cell_type": "code",
   "execution_count": 208,
   "metadata": {},
   "outputs": [],
   "source": [
    "Player1 = Player('Player1', [[3,0],[5,1]],[])\n",
    "Player2 = Player('Player2', [[3,5],[0,1]],[])"
   ]
  },
  {
   "cell_type": "code",
   "execution_count": 211,
   "metadata": {},
   "outputs": [
    {
     "data": {
      "text/plain": [
       "[]"
      ]
     },
     "execution_count": 211,
     "metadata": {},
     "output_type": "execute_result"
    }
   ],
   "source": [
    "Player1.possibleNash"
   ]
  },
  {
   "cell_type": "code",
   "execution_count": 171,
   "metadata": {},
   "outputs": [],
   "source": [
    "### Find pure strategy Nash equilibrium by iteratively searching whether there's improvement in each quadrant"
   ]
  },
  {
   "cell_type": "code",
   "execution_count": 172,
   "metadata": {},
   "outputs": [],
   "source": [
    "# Calculate coordinates of each quadrant. These coordinates will be used to calculate distance between cells\n",
    "# Size is rows/columns in the payoff matrix\n",
    "size = 2\n",
    "x = np.arange(0, size, 1)\n",
    "y = np.arange(0, size, 1)\n",
    "coordArr = [[(0,0) for j in y] for i in x]\n",
    "for rowInd, row in enumerate((coordArr)):\n",
    "    for colInd in range(len(row)):\n",
    "        coordArr[rowInd][colInd] = ( rowInd, colInd )"
   ]
  },
  {
   "cell_type": "code",
   "execution_count": 180,
   "metadata": {},
   "outputs": [],
   "source": [
    "# Takes coordinates of a location in the payoff matrix, the payoff matrix, and coordinates of full payoff matrix,\n",
    "# and determines whether improvement is possible. If improvement is not possible in one direction, return 1. If \n",
    "# improvement is not possible in two different directions, then this is a possible pure Nash play.\n",
    "\n",
    "def CheckImprovement(curPos, payoffMatrix, coordArr):\n",
    "    orthogonal = list()\n",
    "    for rowInd, row in enumerate((coordArr)):\n",
    "        for colInd in range(len(row)):\n",
    "            arrDiff = np.subtract( coordArr[rowInd][colInd], curPos )\n",
    "            arrTotDiff = sum(abs(arrDiff))\n",
    "            if arrTotDiff == 1:\n",
    "                orthogonal.append(coordArr[rowInd][colInd])\n",
    "\n",
    "    # Current payoff\n",
    "    curPayoff = Player1.payoffMatrix[curPos[0]][curPos[1]]\n",
    "    # If improvement is not possible by moving to the orthogonal cell, add 1 to list. If all values are 1, then possible play\n",
    "    # for one player that could constitute a Nash equilibrium\n",
    "    improvement = list()\n",
    "    for coord in orthogonal:\n",
    "        adjPayoff = Player1.payoffMatrix[coord[0]][coord[1]]\n",
    "        if adjPayoff <= curPayoff:\n",
    "            improvement.append(1)\n",
    "        else:\n",
    "            improvement.append(0)\n",
    "    \n",
    "    return(improvement)"
   ]
  },
  {
   "cell_type": "code",
   "execution_count": 216,
   "metadata": {},
   "outputs": [],
   "source": [
    "# Looks through lists that indicate whether improvement is possible at each position, appending all positions that are\n",
    "# candidate Nash equilibria.\n",
    "def FindPossibleNash( payoffs ):\n",
    "    \n",
    "    playerPossibleNash = list()\n",
    "    for rowInd, row in enumerate((payoffs)):\n",
    "        for colInd in range(len(row)):\n",
    "            curPos = (rowInd,colInd)\n",
    "            improve = CheckImprovement(curPos, payoffs, coordArr)\n",
    "            if all(x == 1 for x in improve):\n",
    "                # Append the coordinates of a possible Nash equilibrium for one player.\n",
    "                playerPossibleNash.append(curPos)\n",
    "    \n",
    "    return( playerPossibleNash )"
   ]
  },
  {
   "cell_type": "code",
   "execution_count": 175,
   "metadata": {},
   "outputs": [],
   "source": [
    "# For each player, loop through each quadrant and see whether the quadrant is optimal (player does not have an incentive \n",
    "# to change move). \n",
    "# Collect optimal plays."
   ]
  },
  {
   "cell_type": "code",
   "execution_count": 217,
   "metadata": {},
   "outputs": [
    {
     "data": {
      "text/plain": [
       "[(1, 0)]"
      ]
     },
     "execution_count": 217,
     "metadata": {},
     "output_type": "execute_result"
    }
   ],
   "source": [
    "FindPossibleNash(Player1.payoffMatrix)"
   ]
  }
 ],
 "metadata": {
  "kernelspec": {
   "display_name": "Python 3",
   "language": "python",
   "name": "python3"
  },
  "language_info": {
   "codemirror_mode": {
    "name": "ipython",
    "version": 3
   },
   "file_extension": ".py",
   "mimetype": "text/x-python",
   "name": "python",
   "nbconvert_exporter": "python",
   "pygments_lexer": "ipython3",
   "version": "3.7.4"
  }
 },
 "nbformat": 4,
 "nbformat_minor": 2
}
