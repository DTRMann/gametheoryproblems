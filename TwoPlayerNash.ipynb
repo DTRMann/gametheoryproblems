{
 "cells": [
  {
   "cell_type": "code",
   "execution_count": 124,
   "metadata": {},
   "outputs": [],
   "source": [
    "### Finds pure Nash equilibrium and Pareto optima"
   ]
  },
  {
   "cell_type": "code",
   "execution_count": 1,
   "metadata": {},
   "outputs": [],
   "source": [
    "import pandas as pd\n",
    "import numpy as np"
   ]
  },
  {
   "cell_type": "code",
   "execution_count": 2,
   "metadata": {},
   "outputs": [],
   "source": [
    "# Define player class\n",
    "class Player:\n",
    "    def __init__(self, playerNum, payoffMatrix, playerPosition):\n",
    "        self.playerNum      = playerNum\n",
    "        self.payoffMatrix   = payoffMatrix\n",
    "        self.playerPosition = playerPosition"
   ]
  },
  {
   "cell_type": "code",
   "execution_count": 116,
   "metadata": {},
   "outputs": [],
   "source": [
    "Player1 = Player('Player1', [[3,0],[5,1]], 'row')\n",
    "Player2 = Player('Player2', [[3,5],[0,1]], 'column')\n",
    "#Player1 = Player('Player1', [[10,0],[12,3]], 'row')\n",
    "#Player2 = Player('Player2', [[10,15],[8,3]], 'column')"
   ]
  },
  {
   "cell_type": "code",
   "execution_count": 4,
   "metadata": {},
   "outputs": [],
   "source": [
    "### Find pure strategy Nash equilibrium by iteratively searching whether there's improvement in each quadrant"
   ]
  },
  {
   "cell_type": "code",
   "execution_count": 5,
   "metadata": {},
   "outputs": [],
   "source": [
    "# Calculate coordinates of each quadrant. These coordinates will be used to calculate distance between cells\n",
    "# Size is rows/columns in the payoff matrix.\n",
    "\n",
    "size = 2\n",
    "x = np.arange(0, size, 1)\n",
    "y = np.arange(0, size, 1)\n",
    "coordArr = [[(0,0) for j in y] for i in x]\n",
    "for rowInd, row in enumerate((coordArr)):\n",
    "    for colInd in range(len(row)):\n",
    "        coordArr[rowInd][colInd] = ( rowInd, colInd )"
   ]
  },
  {
   "cell_type": "code",
   "execution_count": 99,
   "metadata": {},
   "outputs": [],
   "source": [
    "# Takes coordinates of a location in the payoff matrix, the payoff matrix, and coordinates of full payoff matrix,\n",
    "# and determines whether improvement is possible. If improvement is not possible in one direction, return 1. If \n",
    "# improvement is not possible in two different directions, then this is a possible pure Nash play.\n",
    "\n",
    "def CheckNashImprovement(curPos, payoffMatrix, coordArr, playerPosition):\n",
    "    # Current payoff\n",
    "    curPayoff = payoffMatrix[curPos[0]][curPos[1]]\n",
    "    \n",
    "    orthogonal = list()\n",
    "    for rowInd, row in enumerate((coordArr)):\n",
    "        for colInd in range(len(row)):\n",
    "            arrDiff = abs( np.subtract( coordArr[rowInd][colInd], curPos ) )\n",
    "            rowDiff, colDiff = arrDiff[0], arrDiff[1]\n",
    "            # The row player can only move between rows, and column player can only move between columns.\n",
    "            if (playerPosition == 'row') & (rowDiff == 1) & (colDiff == 0):\n",
    "                orthogonal.append(coordArr[rowInd][colInd])\n",
    "            if (playerPosition == 'column') & (rowDiff == 0) & (colDiff == 1):\n",
    "                orthogonal.append(coordArr[rowInd][colInd])\n",
    "\n",
    "    # If improvement is not possible by moving to the orthogonal cell, add 1 to list. If all values are 1, then possible play\n",
    "    # for one player that could constitute a Nash equilibrium\n",
    "    improvement = list()\n",
    "    for coord in orthogonal:\n",
    "        adjPayoff = payoffMatrix[coord[0]][coord[1]]\n",
    "        if adjPayoff <= curPayoff:\n",
    "            improvement.append(1)\n",
    "        else:\n",
    "            improvement.append(0)\n",
    "    \n",
    "    return(improvement)"
   ]
  },
  {
   "cell_type": "code",
   "execution_count": 97,
   "metadata": {},
   "outputs": [],
   "source": [
    "# Looks through lists that indicate whether improvement is possible at each position, appending all positions that are\n",
    "# candidate Nash equilibria.\n",
    "\n",
    "def FindPossibleNash( coordArr, payoffs, playerPosition ):\n",
    "    \n",
    "    playerPossibleNash = list()\n",
    "    for rowInd, row in enumerate((payoffs)):\n",
    "        for colInd in range(len(row)):\n",
    "            curPos = (rowInd,colInd)\n",
    "            improve = CheckNashImprovement(curPos, payoffs, coordArr, playerPosition)\n",
    "            if all(x == 1 for x in improve):\n",
    "                # Append the coordinates of a possible Nash equilibrium for one player.\n",
    "                playerPossibleNash.append(curPos)\n",
    "    \n",
    "    return( playerPossibleNash )"
   ]
  },
  {
   "cell_type": "code",
   "execution_count": 123,
   "metadata": {},
   "outputs": [],
   "source": [
    "# For each position, function finds all orthogonal positions, and loops through them to see whether strict improvement\n",
    "# is possible. If no strict improvement is possible, the position is Pareto optimal.\n",
    "\n",
    "def CheckParetoImprovement(curPos, coordArr, Player1, Player2):\n",
    "\n",
    "    # Payoffs at current position\n",
    "    curPayoffs = [ Player1.payoffMatrix[curPos[0]][curPos[1]],\n",
    "                   Player2.payoffMatrix[curPos[0]][curPos[1]] ]\n",
    "\n",
    "    orthogonal = list()\n",
    "    for rowInd, row in enumerate((coordArr)):\n",
    "        for colInd in range(len(row)):\n",
    "            # Orthogonal cells are either 1 row or one column away. So orthogonal where dist == 1.\n",
    "            dist = sum( abs( np.subtract( coordArr[rowInd][colInd], curPos ) ) )\n",
    "            # The row player can only move between rows, and column player can only move between columns.\n",
    "            if dist == 1:\n",
    "                orthogonal.append( coordArr[rowInd][colInd] )\n",
    "\n",
    "    improvement = list()\n",
    "    for coord in orthogonal:  \n",
    "        orthogPayoff = ( Player1.payoffMatrix[coord[0]][coord[1]],\n",
    "                         Player2.payoffMatrix[coord[0]][coord[1]] )\n",
    "\n",
    "    # If the orthogonal cell is not strictly greater than the current cell, then it is a candidate for Pareto optimality\n",
    "        if ( not( \\\n",
    "        all( [ curPayoffs < orthogPayoff for curPayoffs, orthogPayoff \\\n",
    "              in zip(curPayoffs, orthogPayoff) ] ) ) ):\n",
    "            improvement.append(1)\n",
    "        else:\n",
    "            improvement.append(0)\n",
    "            \n",
    "    return(improvement)"
   ]
  },
  {
   "cell_type": "code",
   "execution_count": 113,
   "metadata": {},
   "outputs": [],
   "source": [
    "# Loops through each position and checks whether or not Pareto improvement is possible at each position.\n",
    "\n",
    "def FindPareto( coordArr, Player1, Player2 ):\n",
    "    paretoEquil = list()\n",
    "    for rowInd, row in enumerate((coordArr)):\n",
    "        for colInd in range(len(row)):\n",
    "            curPos = (rowInd,colInd)\n",
    "            improve = CheckParetoImprovement(curPos, coordArr, Player1, Player2)\n",
    "            if all(x == 1 for x in improve):\n",
    "                # Append the coordinates of a possible Nash equilibrium for one player.\n",
    "                paretoEquil.append(curPos)\n",
    "    return(paretoEquil)"
   ]
  },
  {
   "cell_type": "code",
   "execution_count": 122,
   "metadata": {},
   "outputs": [
    {
     "data": {
      "text/plain": [
       "[(1, 1)]"
      ]
     },
     "execution_count": 122,
     "metadata": {},
     "output_type": "execute_result"
    }
   ],
   "source": [
    "# Returns two-player Nash\n",
    "list( set(FindPossibleNash( coordArr, Player1.payoffMatrix, Player1.playerPosition )) & \n",
    "      set(FindPossibleNash( coordArr, Player2.payoffMatrix, Player2.playerPosition )) )"
   ]
  },
  {
   "cell_type": "code",
   "execution_count": 120,
   "metadata": {},
   "outputs": [
    {
     "data": {
      "text/plain": [
       "[(0, 0), (0, 1), (1, 0), (1, 1)]"
      ]
     },
     "execution_count": 120,
     "metadata": {},
     "output_type": "execute_result"
    }
   ],
   "source": [
    "FindPareto( coordArr, Player1, Player2 )"
   ]
  },
  {
   "cell_type": "code",
   "execution_count": null,
   "metadata": {},
   "outputs": [],
   "source": []
  }
 ],
 "metadata": {
  "kernelspec": {
   "display_name": "Python 3",
   "language": "python",
   "name": "python3"
  },
  "language_info": {
   "codemirror_mode": {
    "name": "ipython",
    "version": 3
   },
   "file_extension": ".py",
   "mimetype": "text/x-python",
   "name": "python",
   "nbconvert_exporter": "python",
   "pygments_lexer": "ipython3",
   "version": "3.7.4"
  }
 },
 "nbformat": 4,
 "nbformat_minor": 2
}
