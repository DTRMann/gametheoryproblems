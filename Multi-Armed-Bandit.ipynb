{
 "cells": [
  {
   "cell_type": "code",
   "execution_count": 290,
   "metadata": {},
   "outputs": [],
   "source": [
    "import numpy as np\n",
    "import time\n",
    "import random"
   ]
  },
  {
   "cell_type": "code",
   "execution_count": 291,
   "metadata": {},
   "outputs": [],
   "source": [
    "# Each bandit has a specified probability of success (chance) and payoff\n",
    "# Use this structure: https://stackoverflow.com/questions/13411668/global-dictionary-within-a-class-python\n",
    "# Overview of class: https://docs.python.org/3/tutorial/classes.html\n",
    "\n",
    "class Bandits():\n",
    "    def __init__( self, scenarioName ):\n",
    "        np.random.seed(int(time.time()))\n",
    "        self.scenarioName = scenarioName\n",
    "        self.allNames     = []\n",
    "        self.bandits      = {}\n",
    "        \n",
    "    def addBandit(self, name, award, chance, draws, payoff = None, tries = 0):\n",
    "        \n",
    "        self.name    = name\n",
    "        self.award   = award\n",
    "        self.chance  = chance\n",
    "        # Total number of draws for bandit\n",
    "        self.draws   = draws\n",
    "        self.payoff  = award * np.array( np.random.binomial( n = 1, p = chance, size = draws ) )\n",
    "        # Number of times bandit was chosen\n",
    "        self.tries = 0\n",
    "        # Estimate after each try\n",
    "        self.estimate = [0]\n",
    "        self.bandits[self.name] = { 'payoff': self.payoff,\n",
    "                                    'tries' : self.tries,\n",
    "                                    'estimate' : self.estimate }\n",
    "        \n",
    "    def addBandits( self, names, awards, chances, draws ):\n",
    "\n",
    "        for i in range( 0, len(names)):\n",
    "            self.addBandit( name = names[i], award = awards[i], chance = chances[i], draws = 10 )\n",
    "            # Add the new names to allNames\n",
    "            self.allNames.append(names[i])"
   ]
  },
  {
   "cell_type": "code",
   "execution_count": 292,
   "metadata": {},
   "outputs": [],
   "source": [
    "# Function calculates upper confidence bound of a bandit.\n",
    "def CalcConfidenceBound(bandit):\n",
    "    \n",
    "    ucb = bandit['estimate'][bandit['tries']] + \\\n",
    "    np.sqrt( ( 2 * np.log( t ) )/ ( 1 + bandit['tries'] ) )\n",
    "    \n",
    "    return ucb"
   ]
  },
  {
   "cell_type": "code",
   "execution_count": 302,
   "metadata": {},
   "outputs": [],
   "source": [
    "# Function determines which bandit has the highest upper confidence bound, pulls bandit, and\n",
    "def ChooseBandit(bandits, t ):\n",
    "    \n",
    "    # Find the maximum UCB\n",
    "    ucbMax = max( list( map( lambda x: CalcConfidenceBound(bandits.bandits[x]), bandits.bandits ) ) )\n",
    "    \n",
    "    # Identify bandit or bandits with the maximum UCB. Break ties randomly. This ensures the bandit that is chosen in the\n",
    "    # case of ties is independent of bandit ordering. \n",
    "    BanditsUCBMax = list()\n",
    "    for key, value in bandits.bandits.items():\n",
    "        if CalcConfidenceBound(value) == ucbMax:\n",
    "            BanditsUCBMax.append(key)\n",
    "    pullBandit = random.choice(BanditsUCBMax)\n",
    "    \n",
    "    # Select bandit payoff, update estimate\n",
    "    # t is initialized at 1 to prevent sqrt(0) in UCB calculation. t-1 is current payoff position.\n",
    "    reward = bandits.bandits[pullBandit]['payoff'][t-1]\n",
    "    \n",
    "    # Calculate running average of reward across all draws \n",
    "    # Approach: https://math.stackexchange.com/questions/106313/regular-average-calculated-accumulatively\n",
    "    # Total number of bandit pulls\n",
    "    pulls = len(bandits.bandits[pullBandit]['estimate'])\n",
    "    # Average up to, but no including, the latest reward\n",
    "    currAverage = bandits.bandits[pullBandit]['estimate'][pulls-1]\n",
    "    bandits.bandits[pullBandit]['estimate'] * len(bandits.bandits[pullBandit]['estimate'])\n",
    "\n",
    "    newEstimate = ( pulls * currAverage + reward ) / ( pulls + 1 )\n",
    "    bandits.bandits[pullBandit]['estimate'].append(newEstimate)\n",
    "    \n",
    "    return bandits"
   ]
  },
  {
   "cell_type": "code",
   "execution_count": 303,
   "metadata": {},
   "outputs": [],
   "source": [
    "bandits = Bandits('5Bandits')"
   ]
  },
  {
   "cell_type": "code",
   "execution_count": 304,
   "metadata": {},
   "outputs": [],
   "source": [
    "# Pass list of bandit attributes\n",
    "names   = ['Bandit1','Bandit2','Bandit3','Bandit4','Bandit5']\n",
    "awards  = [1] * 5\n",
    "chances = [.1,.3,.5,.7,.9]\n",
    "\n",
    "bandits.addBandits( names = names, awards = awards, chances = chances, draws = 10)"
   ]
  },
  {
   "cell_type": "code",
   "execution_count": 305,
   "metadata": {},
   "outputs": [],
   "source": [
    "# Beta test upper confidence bound approach\n",
    "t = 1"
   ]
  },
  {
   "cell_type": "code",
   "execution_count": 306,
   "metadata": {},
   "outputs": [],
   "source": [
    "bandits = ChooseBandit(bandits,t)"
   ]
  },
  {
   "cell_type": "code",
   "execution_count": 307,
   "metadata": {},
   "outputs": [
    {
     "data": {
      "text/plain": [
       "{'Bandit1': {'payoff': array([0, 1, 0, 0, 0, 0, 1, 0, 0, 0]),\n",
       "  'tries': 0,\n",
       "  'estimate': [0]},\n",
       " 'Bandit2': {'payoff': array([0, 0, 0, 0, 0, 1, 1, 0, 0, 0]),\n",
       "  'tries': 0,\n",
       "  'estimate': [0]},\n",
       " 'Bandit3': {'payoff': array([0, 1, 0, 0, 0, 1, 1, 1, 1, 0]),\n",
       "  'tries': 0,\n",
       "  'estimate': [0]},\n",
       " 'Bandit4': {'payoff': array([0, 1, 1, 1, 0, 1, 1, 1, 1, 1]),\n",
       "  'tries': 0,\n",
       "  'estimate': [0]},\n",
       " 'Bandit5': {'payoff': array([1, 1, 1, 1, 1, 1, 1, 1, 1, 1]),\n",
       "  'tries': 0,\n",
       "  'estimate': [0, 0.5]}}"
      ]
     },
     "execution_count": 307,
     "metadata": {},
     "output_type": "execute_result"
    }
   ],
   "source": [
    "bandits.bandits"
   ]
  },
  {
   "cell_type": "code",
   "execution_count": null,
   "metadata": {},
   "outputs": [],
   "source": [
    "# At the beginning, try each bandit once first"
   ]
  },
  {
   "cell_type": "code",
   "execution_count": null,
   "metadata": {},
   "outputs": [],
   "source": []
  }
 ],
 "metadata": {
  "kernelspec": {
   "display_name": "Python 3",
   "language": "python",
   "name": "python3"
  },
  "language_info": {
   "codemirror_mode": {
    "name": "ipython",
    "version": 3
   },
   "file_extension": ".py",
   "mimetype": "text/x-python",
   "name": "python",
   "nbconvert_exporter": "python",
   "pygments_lexer": "ipython3",
   "version": "3.7.4"
  }
 },
 "nbformat": 4,
 "nbformat_minor": 2
}
