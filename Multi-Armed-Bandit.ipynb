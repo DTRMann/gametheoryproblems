{
 "cells": [
  {
   "cell_type": "code",
   "execution_count": 180,
   "metadata": {},
   "outputs": [],
   "source": [
    "import numpy as np\n",
    "import time\n",
    "import random"
   ]
  },
  {
   "cell_type": "code",
   "execution_count": 62,
   "metadata": {},
   "outputs": [],
   "source": [
    "# Each bandit has a specified probability of success (chance) and payoff\n",
    "# Use this structure: https://stackoverflow.com/questions/13411668/global-dictionary-within-a-class-python\n",
    "# Overview of class: https://docs.python.org/3/tutorial/classes.html\n",
    "\n",
    "class Bandits():\n",
    "    def __init__( self, scenarioName ):\n",
    "        np.random.seed(int(time.time()))\n",
    "        self.scenarioName = scenarioName\n",
    "        self.allNames     = []\n",
    "        self.bandits      = {}\n",
    "        \n",
    "    def addBandit(self, name, award, chance, draws, payoff = None, tries = 0):\n",
    "        \n",
    "        self.name    = name\n",
    "        self.award   = award\n",
    "        self.chance  = chance\n",
    "        # Total number of draws for bandit\n",
    "        self.draws   = draws\n",
    "        self.payoff  = award * np.array( np.random.binomial( n = 1, p = chance, size = draws ) )\n",
    "        # Number of times bandit was chosen\n",
    "        self.tries = 0\n",
    "        # Estimate after each try\n",
    "        self.estimate = [0]\n",
    "        self.bandits[self.name] = { 'payoff': self.payoff,\n",
    "                                    'tries' : self.tries,\n",
    "                                    'estimate' : self.estimate }\n",
    "        \n",
    "    def addBandits( self, names, awards, chances, draws ):\n",
    "\n",
    "        for i in range( 0, len(names)):\n",
    "            self.addBandit( name = names[i], award = awards[i], chance = chances[i], draws = 10 )\n",
    "            # Add the new names to allNames\n",
    "            self.allNames.append(names[i])"
   ]
  },
  {
   "cell_type": "code",
   "execution_count": null,
   "metadata": {},
   "outputs": [],
   "source": [
    "# Function calculates upper confidence bound of a bandit.\n",
    "def calcConfidenceBound(bandit):\n",
    "    \n",
    "    ucb = bandit['estimate'][bandit['tries']] + \\\n",
    "    np.sqrt( ( 2 * np.log( t ) )/ ( 1 + bandit['tries'] ) )\n",
    "    \n",
    "    return ucb"
   ]
  },
  {
   "cell_type": "code",
   "execution_count": 91,
   "metadata": {},
   "outputs": [],
   "source": [
    "bandits = Bandits('5Bandits')"
   ]
  },
  {
   "cell_type": "code",
   "execution_count": 92,
   "metadata": {},
   "outputs": [],
   "source": [
    "# Pass list of bandit attributes\n",
    "names   = ['Bandit1','Bandit2','Bandit3','Bandit4','Bandit5']\n",
    "awards  = [1] * 5\n",
    "chances = [.1,.3,.5,.7,.9]\n",
    "\n",
    "bandits.addBandits( names = names, awards = awards, chances = chances, draws = 10)"
   ]
  },
  {
   "cell_type": "code",
   "execution_count": 79,
   "metadata": {},
   "outputs": [],
   "source": [
    "# Beta test upper confidence bound approach\n",
    "t = 1"
   ]
  },
  {
   "cell_type": "code",
   "execution_count": 214,
   "metadata": {},
   "outputs": [],
   "source": [
    "estimates = list( \\\n",
    "    map( lambda x: bandits.bandits[x]['estimate'][bandits.bandits[x]['tries']] + \\\n",
    "    np.sqrt( ( 2 * np.log( t ) )/ ( 1 + bandits.bandits[x]['tries'] ) ), bandits.bandits ) \\\n",
    "    )"
   ]
  },
  {
   "cell_type": "code",
   "execution_count": 215,
   "metadata": {},
   "outputs": [
    {
     "data": {
      "text/plain": [
       "[0.0, 0.0, 0.0, 0.0, 0.0]"
      ]
     },
     "execution_count": 215,
     "metadata": {},
     "output_type": "execute_result"
    }
   ],
   "source": [
    "estimates"
   ]
  },
  {
   "cell_type": "code",
   "execution_count": 207,
   "metadata": {},
   "outputs": [
    {
     "data": {
      "text/plain": [
       "0.0"
      ]
     },
     "execution_count": 207,
     "metadata": {},
     "output_type": "execute_result"
    }
   ],
   "source": [
    "max(estimates)"
   ]
  },
  {
   "cell_type": "code",
   "execution_count": 222,
   "metadata": {},
   "outputs": [],
   "source": [
    "# Find the bandit with the maximum UCB\n",
    "banditKey = max( bandits.bandits, key=lambda x: bandits.bandits[x]['estimate'][bandits.bandits[x]['tries']] + \\\n",
    "    np.sqrt( ( 2 * np.log( t ) )/ ( 1 + bandits.bandits[x]['tries'] ) ) )"
   ]
  },
  {
   "cell_type": "code",
   "execution_count": 230,
   "metadata": {},
   "outputs": [],
   "source": [
    "# Find the bandit with the maximum UCB\n",
    "banditKey = max( bandits.bandits, key=lambda x: calcConfidenceBound(bandits.bandits[x]) )"
   ]
  },
  {
   "cell_type": "code",
   "execution_count": 241,
   "metadata": {},
   "outputs": [],
   "source": [
    "# Find the maximum UCB\n",
    "ucbMax = max( list( map( lambda x: calcConfidenceBound(bandits.bandits[x]), bandits.bandits ) ) )"
   ]
  },
  {
   "cell_type": "code",
   "execution_count": 255,
   "metadata": {},
   "outputs": [],
   "source": [
    "# Identify bandit or bandits with the maximum UCB. Break ties randomly. This ensures the bandit that is chosen in the\n",
    "# case of ties is independent of bandit ordering. \n",
    "BanditsUCBMax = list()\n",
    "for key, value in bandits.bandits.items():\n",
    "    if calcConfidenceBound(value) == ucbMax:\n",
    "        BanditsUCBMax.append(key)\n",
    "banditPulled = random.choice(BanditsUCBMax)"
   ]
  },
  {
   "cell_type": "code",
   "execution_count": 229,
   "metadata": {},
   "outputs": [],
   "source": [
    "def calcConfidenceBound(bandit):\n",
    "    \n",
    "    ucb = bandit['estimate'][bandit['tries']] + \\\n",
    "    np.sqrt( ( 2 * np.log( t ) )/ ( 1 + bandit['tries'] ) )\n",
    "    \n",
    "    return ucb"
   ]
  },
  {
   "cell_type": "code",
   "execution_count": 227,
   "metadata": {},
   "outputs": [
    {
     "data": {
      "text/plain": [
       "0.0"
      ]
     },
     "execution_count": 227,
     "metadata": {},
     "output_type": "execute_result"
    }
   ],
   "source": [
    "calcConfidenceBound( bandits.bandits['Bandit1'] )"
   ]
  },
  {
   "cell_type": "code",
   "execution_count": null,
   "metadata": {},
   "outputs": [],
   "source": [
    "# At the beginning, try each bandit once first"
   ]
  },
  {
   "cell_type": "code",
   "execution_count": 84,
   "metadata": {},
   "outputs": [
    {
     "data": {
      "text/plain": [
       "0.0"
      ]
     },
     "execution_count": 84,
     "metadata": {},
     "output_type": "execute_result"
    }
   ],
   "source": [
    "exampleUCB"
   ]
  },
  {
   "cell_type": "code",
   "execution_count": null,
   "metadata": {},
   "outputs": [],
   "source": [
    "# Method for getting the key of the value with highest upper confidence bound\n",
    "# https://stackoverflow.com/questions/3282823/get-the-key-corresponding-to-the-minimum-value-within-a-dictionary"
   ]
  }
 ],
 "metadata": {
  "kernelspec": {
   "display_name": "Python 3",
   "language": "python",
   "name": "python3"
  },
  "language_info": {
   "codemirror_mode": {
    "name": "ipython",
    "version": 3
   },
   "file_extension": ".py",
   "mimetype": "text/x-python",
   "name": "python",
   "nbconvert_exporter": "python",
   "pygments_lexer": "ipython3",
   "version": "3.7.4"
  }
 },
 "nbformat": 4,
 "nbformat_minor": 2
}
