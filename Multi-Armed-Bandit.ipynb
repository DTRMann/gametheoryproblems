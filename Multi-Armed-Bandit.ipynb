{
 "cells": [
  {
   "cell_type": "code",
   "execution_count": 2,
   "metadata": {},
   "outputs": [],
   "source": [
    "import numpy as np"
   ]
  },
  {
   "cell_type": "code",
   "execution_count": 69,
   "metadata": {},
   "outputs": [],
   "source": [
    "# Each bandit has a specified probability of success (chance) and payoff\n",
    "# Use this structure: https://stackoverflow.com/questions/13411668/global-dictionary-within-a-class-python\n",
    "# Overview of class: https://docs.python.org/3/tutorial/classes.html\n",
    "\n",
    "class Bandits():\n",
    "    def __init__( self, name ):\n",
    "        self.name    = name\n",
    "        self.bandits = {}\n",
    "        \n",
    "    def addBandit(self, name, award, chance, draws, payoff = None):\n",
    "        self.name   = name\n",
    "        self.award  = award\n",
    "        self.chance = chance\n",
    "        self.draws  = draws\n",
    "        self.payoff  = award * np.array( np.random.binomial( n = 1, p = chance, size = draws ) )\n",
    "        self.bandits[self.name] = self.payoff"
   ]
  },
  {
   "cell_type": "code",
   "execution_count": 71,
   "metadata": {},
   "outputs": [],
   "source": [
    "bandits = Bandits('5Bandits')"
   ]
  },
  {
   "cell_type": "code",
   "execution_count": 73,
   "metadata": {},
   "outputs": [],
   "source": [
    "bandits.addBandit( name = 'Bandit1', award = 1, chance = .1, draws = 10 )\n"
   ]
  },
  {
   "cell_type": "code",
   "execution_count": null,
   "metadata": {},
   "outputs": [],
   "source": [
    "# Create new bandits"
   ]
  },
  {
   "cell_type": "code",
   "execution_count": 53,
   "metadata": {},
   "outputs": [],
   "source": [
    "names   = ['Bandit1','Bandit2','Bandit3','Bandit4','Bandit5']\n",
    "awards  = [1] * 5\n",
    "chances = [.1,.3,.5,.7,.9]"
   ]
  },
  {
   "cell_type": "code",
   "execution_count": 56,
   "metadata": {},
   "outputs": [
    {
     "data": {
      "text/plain": [
       "5"
      ]
     },
     "execution_count": 56,
     "metadata": {},
     "output_type": "execute_result"
    }
   ],
   "source": [
    "len(names)"
   ]
  },
  {
   "cell_type": "code",
   "execution_count": 61,
   "metadata": {},
   "outputs": [
    {
     "name": "stdout",
     "output_type": "stream",
     "text": [
      "0\n",
      "Bandit1\n",
      "1\n",
      "Bandit2\n",
      "2\n",
      "Bandit3\n",
      "3\n",
      "Bandit4\n",
      "4\n",
      "Bandit5\n"
     ]
    }
   ],
   "source": [
    "for i in range( 0, len(names)):\n",
    "    print(i)\n",
    "    curBandit = Bandit( name = names[i], award = awards[i], draws = 10, chance = chances[i] )\n",
    "    print(curBandit.name)"
   ]
  },
  {
   "cell_type": "code",
   "execution_count": 40,
   "metadata": {},
   "outputs": [
    {
     "ename": "SyntaxError",
     "evalue": "unexpected EOF while parsing (<ipython-input-40-e28586be22c3>, line 4)",
     "output_type": "error",
     "traceback": [
      "\u001b[1;36m  File \u001b[1;32m\"<ipython-input-40-e28586be22c3>\"\u001b[1;36m, line \u001b[1;32m4\u001b[0m\n\u001b[1;33m    \u001b[0m\n\u001b[1;37m    ^\u001b[0m\n\u001b[1;31mSyntaxError\u001b[0m\u001b[1;31m:\u001b[0m unexpected EOF while parsing\n"
     ]
    }
   ],
   "source": [
    "# Pass list of bandit names, awards, and probabilities. Also pass single \"draws\" parameter.\n",
    "def Bandits( names, awards, chances, draws ):\n",
    "    "
   ]
  },
  {
   "cell_type": "code",
   "execution_count": 36,
   "metadata": {},
   "outputs": [],
   "source": [
    "# Define the bandit payoffs.\n",
    "Bandit1 = Bandit( name = 'Bandit1', award = 1, draws = 10, chance = .1 )\n",
    "Bandit2 = Bandit( name = 'Bandit2', award = 1, draws = 10, chance = .3 )\n",
    "Bandit3 = Bandit( name = 'Bandit3', award = 1, draws = 10, chance = .5 )\n",
    "Bandit4 = Bandit( name = 'Bandit4', award = 1, draws = 10, chance = .7 )\n",
    "Bandit5 = Bandit( name = 'Bandit5', award = 1, draws = 10, chance = .9 )"
   ]
  },
  {
   "cell_type": "code",
   "execution_count": 37,
   "metadata": {},
   "outputs": [
    {
     "data": {
      "text/plain": [
       "'Bandit1'"
      ]
     },
     "execution_count": 37,
     "metadata": {},
     "output_type": "execute_result"
    }
   ],
   "source": [
    "Bandit1.name"
   ]
  },
  {
   "cell_type": "code",
   "execution_count": 38,
   "metadata": {},
   "outputs": [],
   "source": [
    "# Define dictionary of bandit payoffs. \n",
    "Bandits = dict()\n",
    "Bandits[Bandit1.name] = Bandit1.payoff\n",
    "Bandits[Bandit2.name] = Bandit2.payoff\n",
    "Bandits[Bandit3.name] = Bandit3.payoff\n",
    "Bandits[Bandit4.name] = Bandit4.payoff\n",
    "Bandits[Bandit5.name] = Bandit5.payoff"
   ]
  },
  {
   "cell_type": "code",
   "execution_count": 39,
   "metadata": {},
   "outputs": [
    {
     "data": {
      "text/plain": [
       "{'Bandit1': array([0, 0, 0, 0, 0, 0, 0, 0, 0, 0]),\n",
       " 'Bandit2': array([0, 0, 0, 1, 1, 0, 1, 0, 1, 0]),\n",
       " 'Bandit3': array([0, 0, 0, 1, 1, 1, 0, 1, 0, 1]),\n",
       " 'Bandit4': array([1, 1, 1, 1, 0, 1, 1, 1, 1, 0]),\n",
       " 'Bandit5': array([1, 1, 0, 1, 1, 1, 1, 0, 1, 1])}"
      ]
     },
     "execution_count": 39,
     "metadata": {},
     "output_type": "execute_result"
    }
   ],
   "source": [
    "Bandits"
   ]
  },
  {
   "cell_type": "code",
   "execution_count": 25,
   "metadata": {},
   "outputs": [
    {
     "data": {
      "text/plain": [
       "array([0, 0, 0, 0, 0, 1, 1, 0, 0, 1])"
      ]
     },
     "execution_count": 25,
     "metadata": {},
     "output_type": "execute_result"
    }
   ],
   "source": [
    "Bandit1.payoff"
   ]
  },
  {
   "cell_type": "code",
   "execution_count": 73,
   "metadata": {},
   "outputs": [
    {
     "data": {
      "text/plain": [
       "array([2, 0])"
      ]
     },
     "execution_count": 73,
     "metadata": {},
     "output_type": "execute_result"
    }
   ],
   "source": [
    "2 * np.array( testArr )"
   ]
  },
  {
   "cell_type": "code",
   "execution_count": null,
   "metadata": {},
   "outputs": [],
   "source": []
  }
 ],
 "metadata": {
  "kernelspec": {
   "display_name": "Python 3",
   "language": "python",
   "name": "python3"
  },
  "language_info": {
   "codemirror_mode": {
    "name": "ipython",
    "version": 3
   },
   "file_extension": ".py",
   "mimetype": "text/x-python",
   "name": "python",
   "nbconvert_exporter": "python",
   "pygments_lexer": "ipython3",
   "version": "3.7.4"
  }
 },
 "nbformat": 4,
 "nbformat_minor": 2
}
